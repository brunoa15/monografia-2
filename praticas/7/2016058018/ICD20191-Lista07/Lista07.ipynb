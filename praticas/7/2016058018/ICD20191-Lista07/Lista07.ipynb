{
 "cells": [
  {
   "cell_type": "markdown",
   "metadata": {
    "deletable": false,
    "editable": false,
    "nbgrader": {
     "checksum": "3818e732a20a001b7ac976d05bebae38",
     "grade": false,
     "grade_id": "cellc-a00",
     "locked": true,
     "schema_version": 1,
     "solution": false
    }
   },
   "source": [
    "# Lista 07 - Comparando Classificadores"
   ]
  },
  {
   "cell_type": "markdown",
   "metadata": {
    "deletable": false,
    "editable": false,
    "nbgrader": {
     "checksum": "dcdf972c9ddb3c9fbec115bf5320ac5a",
     "grade": false,
     "grade_id": "cell1c-a00",
     "locked": true,
     "schema_version": 1,
     "solution": false
    }
   },
   "source": [
    "# Exercício 01:\n",
    "\n",
    "Analise o desempenho do kNN e de uma Regressão Logística Regularizada para **pelo menos um** dos conjuntos de dados abaixo:\n",
    "\n",
    "* [Avaliação de carros](http://archive.ics.uci.edu/ml/datasets/Car+Evaluation)\n",
    "* [Avaliação de vinhos](http://archive.ics.uci.edu/ml/datasets/Wine+Quality)\n",
    "* [Resultados de partidas do jogo Dota](http://archive.ics.uci.edu/ml/datasets/Dota2+Games+Results) (desafiador!)\n",
    "\n",
    "Para a questão, faça as seguintes tarefas:\n",
    "\n",
    "* Realize treino, validação e teste\n",
    "* Compare as métricas no teste\n",
    "* Reporte a precisão, revocação, F1 e a matriz de confusão\n",
    "\n",
    "Como já estamos no fim da matéria, você pode agora fazer uso da biblioteca scikit-learn. Afinal, no dia a dia, não implementamos tudo do zero. Abaixo temos os imports que vocês precisam. Leiam a API da biblioteca para saber como fazer uso da mesma."
   ]
  },
  {
   "cell_type": "code",
   "execution_count": 1,
   "metadata": {
    "deletable": false,
    "editable": false,
    "nbgrader": {
     "checksum": "4cb9f28f98be7a7173df5ebc7409532e",
     "grade": false,
     "grade_id": "cell-2ce424d4b26d1b9b",
     "locked": true,
     "schema_version": 1,
     "solution": false
    }
   },
   "outputs": [],
   "source": [
    "from sklearn.linear_model import LogisticRegression\n",
    "\n",
    "from sklearn.metrics import confusion_matrix\n",
    "from sklearn.metrics import precision_recall_fscore_support\n",
    "\n",
    "from sklearn.neighbors import KNeighborsClassifier\n",
    "\n",
    "# Um fator importante é que o SKLearn não cria conjuntos de validação para você. Você tem algumas abordagens,\n",
    "# uma é realizar um novo split no treino. Outra é fazer uso de classificadores com CV no fim.\n",
    "# Tipo LogisticRegressionCV (ver na API). Por fim, você pode fazer uso da classe GridSearchCV.\n",
    "# Leia a documentação da mesma.\n",
    "from sklearn.model_selection import train_test_split"
   ]
  },
  {
   "cell_type": "code",
   "execution_count": 2,
   "metadata": {
    "deletable": false,
    "nbgrader": {
     "checksum": "d018fd308b76554ff6d37bc9fe82404c",
     "grade": true,
     "grade_id": "cell1-a00",
     "locked": false,
     "points": 1,
     "schema_version": 1,
     "solution": true
    },
    "scrolled": true
   },
   "outputs": [
    {
     "data": {
      "text/html": [
       "<div>\n",
       "<style scoped>\n",
       "    .dataframe tbody tr th:only-of-type {\n",
       "        vertical-align: middle;\n",
       "    }\n",
       "\n",
       "    .dataframe tbody tr th {\n",
       "        vertical-align: top;\n",
       "    }\n",
       "\n",
       "    .dataframe thead th {\n",
       "        text-align: right;\n",
       "    }\n",
       "</style>\n",
       "<table border=\"1\" class=\"dataframe\">\n",
       "  <thead>\n",
       "    <tr style=\"text-align: right;\">\n",
       "      <th></th>\n",
       "      <th>preço de compra</th>\n",
       "      <th>preço de manutenção</th>\n",
       "      <th>portas</th>\n",
       "      <th>pessoas</th>\n",
       "      <th>porta-malas</th>\n",
       "      <th>segurança</th>\n",
       "      <th>avaliação</th>\n",
       "    </tr>\n",
       "  </thead>\n",
       "  <tbody>\n",
       "    <tr>\n",
       "      <th>0</th>\n",
       "      <td>vhigh</td>\n",
       "      <td>vhigh</td>\n",
       "      <td>2</td>\n",
       "      <td>2</td>\n",
       "      <td>small</td>\n",
       "      <td>med</td>\n",
       "      <td>unacc</td>\n",
       "    </tr>\n",
       "    <tr>\n",
       "      <th>1</th>\n",
       "      <td>vhigh</td>\n",
       "      <td>vhigh</td>\n",
       "      <td>2</td>\n",
       "      <td>2</td>\n",
       "      <td>small</td>\n",
       "      <td>high</td>\n",
       "      <td>unacc</td>\n",
       "    </tr>\n",
       "    <tr>\n",
       "      <th>2</th>\n",
       "      <td>vhigh</td>\n",
       "      <td>vhigh</td>\n",
       "      <td>2</td>\n",
       "      <td>2</td>\n",
       "      <td>med</td>\n",
       "      <td>low</td>\n",
       "      <td>unacc</td>\n",
       "    </tr>\n",
       "    <tr>\n",
       "      <th>3</th>\n",
       "      <td>vhigh</td>\n",
       "      <td>vhigh</td>\n",
       "      <td>2</td>\n",
       "      <td>2</td>\n",
       "      <td>med</td>\n",
       "      <td>med</td>\n",
       "      <td>unacc</td>\n",
       "    </tr>\n",
       "    <tr>\n",
       "      <th>4</th>\n",
       "      <td>vhigh</td>\n",
       "      <td>vhigh</td>\n",
       "      <td>2</td>\n",
       "      <td>2</td>\n",
       "      <td>med</td>\n",
       "      <td>high</td>\n",
       "      <td>unacc</td>\n",
       "    </tr>\n",
       "  </tbody>\n",
       "</table>\n",
       "</div>"
      ],
      "text/plain": [
       "  preço de compra preço de manutenção portas pessoas porta-malas segurança  \\\n",
       "0           vhigh               vhigh      2       2       small       med   \n",
       "1           vhigh               vhigh      2       2       small      high   \n",
       "2           vhigh               vhigh      2       2         med       low   \n",
       "3           vhigh               vhigh      2       2         med       med   \n",
       "4           vhigh               vhigh      2       2         med      high   \n",
       "\n",
       "  avaliação  \n",
       "0     unacc  \n",
       "1     unacc  \n",
       "2     unacc  \n",
       "3     unacc  \n",
       "4     unacc  "
      ]
     },
     "execution_count": 2,
     "metadata": {},
     "output_type": "execute_result"
    }
   ],
   "source": [
    "import numpy as np\n",
    "import pandas as pd\n",
    "import matplotlib.pyplot as plt\n",
    "from sklearn.linear_model import LogisticRegressionCV\n",
    "from sklearn.metrics import classification_report\n",
    "\n",
    "df = pd.read_csv('./car.data.csv')\n",
    "df.columns = ['preço de compra', 'preço de manutenção', 'portas', 'pessoas', 'porta-malas', 'segurança', 'avaliação']\n",
    "df.head()"
   ]
  },
  {
   "cell_type": "code",
   "execution_count": 3,
   "metadata": {},
   "outputs": [
    {
     "data": {
      "text/html": [
       "<div>\n",
       "<style scoped>\n",
       "    .dataframe tbody tr th:only-of-type {\n",
       "        vertical-align: middle;\n",
       "    }\n",
       "\n",
       "    .dataframe tbody tr th {\n",
       "        vertical-align: top;\n",
       "    }\n",
       "\n",
       "    .dataframe thead th {\n",
       "        text-align: right;\n",
       "    }\n",
       "</style>\n",
       "<table border=\"1\" class=\"dataframe\">\n",
       "  <thead>\n",
       "    <tr style=\"text-align: right;\">\n",
       "      <th></th>\n",
       "      <th>avaliação</th>\n",
       "      <th>preço de compra_high</th>\n",
       "      <th>preço de compra_low</th>\n",
       "      <th>preço de compra_med</th>\n",
       "      <th>preço de compra_vhigh</th>\n",
       "      <th>preço de manutenção_high</th>\n",
       "      <th>preço de manutenção_low</th>\n",
       "      <th>preço de manutenção_med</th>\n",
       "      <th>preço de manutenção_vhigh</th>\n",
       "      <th>portas_2</th>\n",
       "      <th>...</th>\n",
       "      <th>portas_5more</th>\n",
       "      <th>pessoas_2</th>\n",
       "      <th>pessoas_4</th>\n",
       "      <th>pessoas_more</th>\n",
       "      <th>porta-malas_big</th>\n",
       "      <th>porta-malas_med</th>\n",
       "      <th>porta-malas_small</th>\n",
       "      <th>segurança_high</th>\n",
       "      <th>segurança_low</th>\n",
       "      <th>segurança_med</th>\n",
       "    </tr>\n",
       "  </thead>\n",
       "  <tbody>\n",
       "    <tr>\n",
       "      <th>0</th>\n",
       "      <td>0</td>\n",
       "      <td>0</td>\n",
       "      <td>0</td>\n",
       "      <td>0</td>\n",
       "      <td>1</td>\n",
       "      <td>0</td>\n",
       "      <td>0</td>\n",
       "      <td>0</td>\n",
       "      <td>1</td>\n",
       "      <td>1</td>\n",
       "      <td>...</td>\n",
       "      <td>0</td>\n",
       "      <td>1</td>\n",
       "      <td>0</td>\n",
       "      <td>0</td>\n",
       "      <td>0</td>\n",
       "      <td>0</td>\n",
       "      <td>1</td>\n",
       "      <td>0</td>\n",
       "      <td>0</td>\n",
       "      <td>1</td>\n",
       "    </tr>\n",
       "    <tr>\n",
       "      <th>1</th>\n",
       "      <td>0</td>\n",
       "      <td>0</td>\n",
       "      <td>0</td>\n",
       "      <td>0</td>\n",
       "      <td>1</td>\n",
       "      <td>0</td>\n",
       "      <td>0</td>\n",
       "      <td>0</td>\n",
       "      <td>1</td>\n",
       "      <td>1</td>\n",
       "      <td>...</td>\n",
       "      <td>0</td>\n",
       "      <td>1</td>\n",
       "      <td>0</td>\n",
       "      <td>0</td>\n",
       "      <td>0</td>\n",
       "      <td>0</td>\n",
       "      <td>1</td>\n",
       "      <td>1</td>\n",
       "      <td>0</td>\n",
       "      <td>0</td>\n",
       "    </tr>\n",
       "    <tr>\n",
       "      <th>2</th>\n",
       "      <td>0</td>\n",
       "      <td>0</td>\n",
       "      <td>0</td>\n",
       "      <td>0</td>\n",
       "      <td>1</td>\n",
       "      <td>0</td>\n",
       "      <td>0</td>\n",
       "      <td>0</td>\n",
       "      <td>1</td>\n",
       "      <td>1</td>\n",
       "      <td>...</td>\n",
       "      <td>0</td>\n",
       "      <td>1</td>\n",
       "      <td>0</td>\n",
       "      <td>0</td>\n",
       "      <td>0</td>\n",
       "      <td>1</td>\n",
       "      <td>0</td>\n",
       "      <td>0</td>\n",
       "      <td>1</td>\n",
       "      <td>0</td>\n",
       "    </tr>\n",
       "    <tr>\n",
       "      <th>3</th>\n",
       "      <td>0</td>\n",
       "      <td>0</td>\n",
       "      <td>0</td>\n",
       "      <td>0</td>\n",
       "      <td>1</td>\n",
       "      <td>0</td>\n",
       "      <td>0</td>\n",
       "      <td>0</td>\n",
       "      <td>1</td>\n",
       "      <td>1</td>\n",
       "      <td>...</td>\n",
       "      <td>0</td>\n",
       "      <td>1</td>\n",
       "      <td>0</td>\n",
       "      <td>0</td>\n",
       "      <td>0</td>\n",
       "      <td>1</td>\n",
       "      <td>0</td>\n",
       "      <td>0</td>\n",
       "      <td>0</td>\n",
       "      <td>1</td>\n",
       "    </tr>\n",
       "    <tr>\n",
       "      <th>4</th>\n",
       "      <td>0</td>\n",
       "      <td>0</td>\n",
       "      <td>0</td>\n",
       "      <td>0</td>\n",
       "      <td>1</td>\n",
       "      <td>0</td>\n",
       "      <td>0</td>\n",
       "      <td>0</td>\n",
       "      <td>1</td>\n",
       "      <td>1</td>\n",
       "      <td>...</td>\n",
       "      <td>0</td>\n",
       "      <td>1</td>\n",
       "      <td>0</td>\n",
       "      <td>0</td>\n",
       "      <td>0</td>\n",
       "      <td>1</td>\n",
       "      <td>0</td>\n",
       "      <td>1</td>\n",
       "      <td>0</td>\n",
       "      <td>0</td>\n",
       "    </tr>\n",
       "  </tbody>\n",
       "</table>\n",
       "<p>5 rows × 22 columns</p>\n",
       "</div>"
      ],
      "text/plain": [
       "  avaliação  preço de compra_high  preço de compra_low  preço de compra_med  \\\n",
       "0         0                     0                    0                    0   \n",
       "1         0                     0                    0                    0   \n",
       "2         0                     0                    0                    0   \n",
       "3         0                     0                    0                    0   \n",
       "4         0                     0                    0                    0   \n",
       "\n",
       "   preço de compra_vhigh  preço de manutenção_high  preço de manutenção_low  \\\n",
       "0                      1                         0                        0   \n",
       "1                      1                         0                        0   \n",
       "2                      1                         0                        0   \n",
       "3                      1                         0                        0   \n",
       "4                      1                         0                        0   \n",
       "\n",
       "   preço de manutenção_med  preço de manutenção_vhigh  portas_2  \\\n",
       "0                        0                          1         1   \n",
       "1                        0                          1         1   \n",
       "2                        0                          1         1   \n",
       "3                        0                          1         1   \n",
       "4                        0                          1         1   \n",
       "\n",
       "       ...        portas_5more  pessoas_2  pessoas_4  pessoas_more  \\\n",
       "0      ...                   0          1          0             0   \n",
       "1      ...                   0          1          0             0   \n",
       "2      ...                   0          1          0             0   \n",
       "3      ...                   0          1          0             0   \n",
       "4      ...                   0          1          0             0   \n",
       "\n",
       "   porta-malas_big  porta-malas_med  porta-malas_small  segurança_high  \\\n",
       "0                0                0                  1               0   \n",
       "1                0                0                  1               1   \n",
       "2                0                1                  0               0   \n",
       "3                0                1                  0               0   \n",
       "4                0                1                  0               1   \n",
       "\n",
       "   segurança_low  segurança_med  \n",
       "0              0              1  \n",
       "1              0              0  \n",
       "2              1              0  \n",
       "3              0              1  \n",
       "4              0              0  \n",
       "\n",
       "[5 rows x 22 columns]"
      ]
     },
     "execution_count": 3,
     "metadata": {},
     "output_type": "execute_result"
    }
   ],
   "source": [
    "# --- REGRESSAO LOGISTICA ---\n",
    "\n",
    "# convertendo os valores categorios do resultado em numeros 0, 1, 2 e 3\n",
    "df['avaliação'][df['avaliação'] == 'unacc'] = 0\n",
    "df['avaliação'][df['avaliação'] == 'acc'] = 1\n",
    "df['avaliação'][df['avaliação'] == 'good'] = 2\n",
    "df['avaliação'][df['avaliação'] == 'vgood'] = 3\n",
    "\n",
    "# one hot encoding\n",
    "df = pd.get_dummies(df, columns=['preço de compra', 'preço de manutenção', 'portas', 'pessoas', 'porta-malas', 'segurança'])\n",
    "df.head()"
   ]
  },
  {
   "cell_type": "code",
   "execution_count": 4,
   "metadata": {},
   "outputs": [],
   "source": [
    "X = np.array(df.copy().drop('avaliação', 1), dtype= 'float64')\n",
    "y = np.array(df.copy()['avaliação'], dtype= 'float64')\n",
    "\n",
    "X_treino, X_teste, y_treino, y_teste = train_test_split(X, y, test_size=0.3)"
   ]
  },
  {
   "cell_type": "code",
   "execution_count": 5,
   "metadata": {},
   "outputs": [],
   "source": [
    "from sklearn.preprocessing import StandardScaler\n",
    "scaler = StandardScaler()\n",
    "X_novo_treino = scaler.fit_transform(X_treino)\n",
    "X_novo_teste = scaler.transform(X_teste)"
   ]
  },
  {
   "cell_type": "code",
   "execution_count": 6,
   "metadata": {},
   "outputs": [
    {
     "data": {
      "text/plain": [
       "LogisticRegressionCV(Cs=100, class_weight=None, cv=3, dual=False,\n",
       "           fit_intercept=False, intercept_scaling=1.0, max_iter=100,\n",
       "           multi_class='ovr', n_jobs=None, penalty='l2', random_state=None,\n",
       "           refit=True, scoring=None, solver='lbfgs', tol=0.0001, verbose=0)"
      ]
     },
     "execution_count": 6,
     "metadata": {},
     "output_type": "execute_result"
    }
   ],
   "source": [
    "modelo = LogisticRegressionCV(Cs=100, fit_intercept=False, multi_class='ovr', cv=3, solver='lbfgs')\n",
    "modelo.fit(X_novo_treino, y_treino)"
   ]
  },
  {
   "cell_type": "code",
   "execution_count": 7,
   "metadata": {},
   "outputs": [
    {
     "name": "stdout",
     "output_type": "stream",
     "text": [
      "              precision    recall  f1-score   support\n",
      "\n",
      "         0.0       1.00      0.69      0.81       366\n",
      "         1.0       0.28      0.09      0.13       114\n",
      "         2.0       0.16      0.64      0.26        22\n",
      "         3.0       0.12      1.00      0.21        17\n",
      "\n",
      "   micro avg       0.56      0.56      0.56       519\n",
      "   macro avg       0.39      0.60      0.35       519\n",
      "weighted avg       0.78      0.56      0.62       519\n",
      "\n"
     ]
    },
    {
     "data": {
      "text/plain": [
       "([<matplotlib.axis.YTick at 0x1a221a7b70>,\n",
       "  <matplotlib.axis.YTick at 0x1a221a74a8>,\n",
       "  <matplotlib.axis.YTick at 0x1a221934a8>,\n",
       "  <matplotlib.axis.YTick at 0x1a224569b0>],\n",
       " <a list of 4 Text yticklabel objects>)"
      ]
     },
     "execution_count": 7,
     "metadata": {},
     "output_type": "execute_result"
    },
    {
     "data": {
      "image/png": "[encoded data removed]",
      "text/plain": [
       "<Figure size 432x288 with 1 Axes>"
      ]
     },
     "metadata": {
      "needs_background": "light"
     },
     "output_type": "display_data"
    }
   ],
   "source": [
    "print(classification_report(y_teste, modelo.predict(X_novo_teste)))\n",
    "\n",
    "plt.imshow(confusion_matrix(y_teste, modelo.predict(X_novo_teste)))\n",
    "plt.xticks([0,1,2,3])\n",
    "plt.yticks([0,1,2,3])"
   ]
  },
  {
   "cell_type": "code",
   "execution_count": 8,
   "metadata": {},
   "outputs": [
    {
     "name": "stdout",
     "output_type": "stream",
     "text": [
      "              precision    recall  f1-score   support\n",
      "\n",
      "           0       0.92      0.99      0.95       359\n",
      "           1       0.81      0.78      0.79       122\n",
      "           2       0.67      0.10      0.17        20\n",
      "           3       1.00      0.61      0.76        18\n",
      "\n",
      "   micro avg       0.89      0.89      0.89       519\n",
      "   macro avg       0.85      0.62      0.67       519\n",
      "weighted avg       0.89      0.89      0.88       519\n",
      "\n",
      "[0 0 1 3 0 3 0 0 0 0 0 0 0 0 0 0 0 0 1 0 0 1 0 0 0 1 0 1 1 1 1 0 0 0 0 0 0\n",
      " 0 2 0 0 0 0 2 1 1 1 0 1 0 0 1 0 0 0 1 0 0 3 1 0 0 0 0 0 0 0 0 0 3 2 1 0 0\n",
      " 2 1 0 0 0 1 0 0 0 0 0 0 1 0 3 0 1 1 0 0 0 1 2 0 0 1 0 1 0 0 3 3 1 0 0 0 0\n",
      " 0 0 0 1 0 3 0 0 0 0 0 0 0 0 0 0 0 0 0 1 0 0 0 1 1 0 0 1 0 0 2 0 0 0 0 0 0\n",
      " 0 1 1 0 0 2 0 0 1 0 0 0 0 2 0 0 1 0 0 1 0 0 1 0 0 1 0 0 0 1 0 0 1 0 0 0 0\n",
      " 0 0 0 0 2 1 0 0 0 1 0 0 2 0 0 0 0 0 0 0 0 2 1 0 0 0 3 0 0 1 3 0 0 0 0 0 1\n",
      " 1 0 0 1 0 1 0 0 0 0 1 0 1 0 1 0 1 0 0 1 0 0 0 0 0 1 0 0 1 0 0 1 0 0 0 3 0\n",
      " 0 0 0 0 0 0 0 1 0 0 0 1 1 1 0 0 0 0 0 0 2 3 0 1 0 1 0 1 3 0 0 0 0 0 2 0 0\n",
      " 0 1 1 0 0 1 1 0 0 1 0 0 0 0 0 0 1 0 0 0 1 1 0 0 0 0 0 0 0 1 0 0 0 0 0 0 0\n",
      " 3 1 0 1 0 1 0 0 0 0 1 1 1 2 1 0 0 0 0 1 0 1 0 3 0 0 0 0 0 0 0 0 1 2 0 0 0\n",
      " 0 0 0 0 1 0 1 0 0 1 0 0 0 1 0 1 0 0 0 1 0 0 1 1 0 1 0 1 0 0 0 0 0 1 1 0 1\n",
      " 0 0 0 0 2 2 0 1 0 2 0 0 0 0 0 1 1 1 3 0 0 0 0 0 1 0 0 0 0 1 1 0 0 1 0 0 1\n",
      " 1 0 0 0 1 1 0 0 0 0 0 0 0 1 0 3 0 1 0 0 2 0 1 0 0 1 0 0 1 0 0 1 0 0 1 0 0\n",
      " 3 0 0 0 0 0 1 1 1 0 2 0 1 1 0 0 0 0 0 0 0 0 0 0 0 0 0 1 0 1 0 0 0 0 1 1 0\n",
      " 0]\n",
      "[0 0 1 3 0 1 0 0 0 0 0 0 0 0 0 0 0 0 1 0 0 1 0 0 0 1 0 0 1 1 0 0 0 0 0 0 0\n",
      " 0 0 0 0 0 0 2 0 1 1 0 0 0 0 0 0 0 0 1 0 0 1 1 0 0 0 0 0 0 0 0 0 0 1 1 0 0\n",
      " 1 1 0 0 0 1 0 0 0 0 0 0 0 0 3 0 0 1 0 0 0 1 0 0 0 1 0 1 0 0 3 3 0 0 0 0 0\n",
      " 0 0 0 1 0 1 0 0 0 0 0 0 0 1 0 0 0 0 0 1 0 0 0 1 1 0 0 1 0 0 1 0 0 0 0 0 0\n",
      " 0 1 0 0 0 1 0 0 1 0 0 0 0 1 0 0 1 0 0 1 0 0 1 0 0 1 0 0 0 1 0 0 1 0 0 0 0\n",
      " 0 0 0 0 1 0 0 0 0 1 0 0 1 0 0 0 0 0 0 0 0 1 1 0 0 0 3 0 0 1 0 0 0 0 0 0 0\n",
      " 1 0 0 1 0 1 0 0 0 0 1 0 1 0 1 0 1 0 0 1 0 0 0 0 0 0 0 0 1 0 0 1 0 0 0 3 0\n",
      " 0 0 0 0 0 0 0 1 0 0 0 1 0 1 0 0 0 0 0 0 2 2 0 1 0 1 0 1 1 0 0 0 0 0 1 0 0\n",
      " 0 1 0 0 0 1 1 0 0 1 0 0 0 0 0 0 1 0 0 0 0 1 0 0 0 0 0 0 0 1 0 0 0 0 0 0 0\n",
      " 3 1 0 1 0 1 0 0 0 0 1 1 1 1 1 0 0 0 0 1 0 1 0 3 0 0 0 0 0 0 0 0 1 1 0 0 0\n",
      " 0 0 0 0 1 1 1 0 1 1 0 0 0 1 0 0 0 0 0 0 0 0 1 1 0 1 0 1 0 0 0 0 0 1 1 0 1\n",
      " 0 0 0 0 1 1 0 0 0 1 0 0 0 0 0 1 1 0 3 0 0 0 0 0 1 0 0 0 0 1 0 0 0 1 0 0 1\n",
      " 1 0 0 0 1 1 0 0 0 0 0 0 0 0 0 3 0 1 0 0 0 0 1 0 0 1 0 0 1 0 0 0 0 0 1 0 0\n",
      " 3 0 0 0 0 0 1 0 1 0 1 0 0 0 0 0 0 0 0 0 0 0 0 0 0 0 0 1 0 0 0 0 0 0 1 0 0\n",
      " 0]\n"
     ]
    },
    {
     "data": {
      "image/png": "[encoded data removed]",
      "text/plain": [
       "<Figure size 432x288 with 1 Axes>"
      ]
     },
     "metadata": {
      "needs_background": "light"
     },
     "output_type": "display_data"
    }
   ],
   "source": [
    "# --- KNN ---\n",
    "X = np.array(df.copy().drop('avaliação', 1), dtype= 'int64')\n",
    "y = np.array(df.copy()['avaliação'], dtype= 'int64')\n",
    "\n",
    "X_treino, X_teste, y_treino, y_teste = train_test_split(X, y, test_size=0.3)\n",
    "\n",
    "modelo_knn = KNeighborsClassifier(n_neighbors=11).fit(X_treino, y_treino)\n",
    "modelo_knn.predict(X_teste)\n",
    "\n",
    "print(classification_report(y_teste, modelo_knn.predict(X_teste)))\n",
    "\n",
    "\n",
    "plt.imshow(confusion_matrix(y_teste, modelo_knn.predict(X_teste)))\n",
    "plt.xticks([0,1,2,3])\n",
    "plt.yticks([0,1,2,3])\n",
    "\n",
    "print(y_teste)\n",
    "print(modelo_knn.predict(X_teste))"
   ]
  },
  {
   "cell_type": "markdown",
   "metadata": {
    "deletable": false,
    "editable": false,
    "nbgrader": {
     "checksum": "5326a71f95cf2bff0dc9e8fb2fccd7aa",
     "grade": false,
     "grade_id": "cell-05ec0cf892ddb34e",
     "locked": true,
     "schema_version": 1,
     "solution": false
    }
   },
   "source": [
    "Explique e discuta sobre os resultados encontrados no campo abaixo."
   ]
  },
  {
   "cell_type": "markdown",
   "metadata": {
    "deletable": false,
    "nbgrader": {
     "checksum": "d58eb343f731c93ba8580a101bf55781",
     "grade": true,
     "grade_id": "cell-ff948e4b04b506a6",
     "locked": false,
     "points": 1,
     "schema_version": 1,
     "solution": true
    }
   },
   "source": [
    "Na amostra de treino selecionei 70% do dataset e os outros 30% foram utilizados para o teste.\n",
    "\n",
    "No algoritmo de Regressão Logística o desempenho da classificação não foi muito satisfatório. Já, no algoritmo kNN, a classificação foi boa, com algumas ressalvas. Fiquei um pouco confuso nos parâmetros a serem utilizados na função de regressão logística e, por fim, depois de testar vários, percebi que o método 'lbfgs' e o fit_intercept=False me retornavam resultados menos insatisfatórios.\n",
    "\n",
    "Ambos os algoritmos se mostraram melhores na classificação dos carros como 'unnac' (classe 0) e 'acc' (classe 1), sendo que o kNN se mostrou mais preciso nesse caso, como pode ser visto pelos valores mais altos em precisão, revocação e F1 e pela matriz de confusão.\n",
    "\n",
    "Pela matriz de confusão do método de regressão logística pode-se perceber que ocorrem muitos falso positivos de itens das classes 2 ou 3 sendo classificados como classe 0.\n",
    "\n",
    "Por algum motivo, o KNN sofre em classificar corretamente instâncias como pertencentes à classe 2, talvez porque o dataset não deixe muito claro quando um item deve ser classificado nessa faixa ou porque faltam melhores exemplos para o algoritmo na fase de treino.\n",
    "\n",
    "Por fim, acredito que nenhum dos dois modelos descreve maravilhosamente bem os dados e é capaz de classificá-los de forma ótima, porém o kNN com k=11 teve melhor desempenho."
   ]
  }
 ],
 "metadata": {
  "kernelspec": {
   "display_name": "Python 3",
   "language": "python",
   "name": "python3"
  },
  "language_info": {
   "codemirror_mode": {
    "name": "ipython",
    "version": 3
   },
   "file_extension": ".py",
   "mimetype": "text/x-python",
   "name": "python",
   "nbconvert_exporter": "python",
   "pygments_lexer": "ipython3",
   "version": "3.7.1"
  }
 },
 "nbformat": 4,
 "nbformat_minor": 2
}
