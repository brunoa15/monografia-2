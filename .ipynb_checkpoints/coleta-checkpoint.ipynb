{
 "cells": [
  {
   "cell_type": "code",
   "execution_count": null,
   "metadata": {},
   "outputs": [],
   "source": [
    "import pandas as pd\n",
    "import spotipy\n",
    "from spotipy.oauth2 import SpotifyClientCredentials"
   ]
  },
  {
   "cell_type": "code",
   "execution_count": null,
   "metadata": {},
   "outputs": [],
   "source": [
    "CLIENT_ID='86da3fefa6944f7c8cc2d46a6e123690'\n",
    "CLIENT_SECRET='c25d36f494d44ad298228020fa4eddd5'\n",
    "\n",
    "auth_manager = SpotifyClientCredentials(CLIENT_ID, CLIENT_SECRET)\n",
    "sp = spotipy.Spotify(auth_manager=auth_manager)\n",
    "df_kaggle = pd.read_csv('./dataset/data.csv')"
   ]
  },
  {
   "cell_type": "code",
   "execution_count": null,
   "metadata": {},
   "outputs": [],
   "source": [
    "tracks_url = df_kaggle['URL'].dropna().unique().tolist()\n",
    "len(tracks_url)"
   ]
  },
  {
   "cell_type": "code",
   "execution_count": null,
   "metadata": {},
   "outputs": [],
   "source": [
    "feature1 = []\n",
    "for i in range(0,1000):\n",
    "    feature1.extend(sp.audio_features(tracks_url[i]))"
   ]
  },
  {
   "cell_type": "code",
   "execution_count": null,
   "metadata": {},
   "outputs": [],
   "source": [
    "feature2 = []\n",
    "for i in range(1000,2000):\n",
    "    feature2.extend(sp.audio_features(tracks_url[i]))"
   ]
  },
  {
   "cell_type": "code",
   "execution_count": null,
   "metadata": {},
   "outputs": [],
   "source": [
    "feature3 = []\n",
    "for i in range(2000,3000):\n",
    "    feature3.extend(sp.audio_features(tracks_url[i]))"
   ]
  },
  {
   "cell_type": "code",
   "execution_count": null,
   "metadata": {},
   "outputs": [],
   "source": [
    "feature4 = []\n",
    "for i in range(3000,4000):\n",
    "    feature4.extend(sp.audio_features(tracks_url[i]))"
   ]
  },
  {
   "cell_type": "code",
   "execution_count": null,
   "metadata": {},
   "outputs": [],
   "source": [
    "feature5 = []\n",
    "for i in range(4000,5000):\n",
    "    feature5.extend(sp.audio_features(tracks_url[i]))"
   ]
  },
  {
   "cell_type": "code",
   "execution_count": null,
   "metadata": {},
   "outputs": [],
   "source": [
    "feature6 = []\n",
    "for i in range(5000,6000):\n",
    "    feature6.extend(sp.audio_features(tracks_url[i]))"
   ]
  },
  {
   "cell_type": "code",
   "execution_count": null,
   "metadata": {},
   "outputs": [],
   "source": [
    "feature7 = []\n",
    "for i in range(6000,7000):\n",
    "    feature7.extend(sp.audio_features(tracks_url[i]))"
   ]
  },
  {
   "cell_type": "code",
   "execution_count": null,
   "metadata": {},
   "outputs": [],
   "source": [
    "feature8 = []\n",
    "for i in range(7000,8000):\n",
    "    feature8.extend(sp.audio_features(tracks_url[i]))"
   ]
  },
  {
   "cell_type": "code",
   "execution_count": null,
   "metadata": {},
   "outputs": [],
   "source": [
    "feature9 = []\n",
    "for i in range(8000,9000):\n",
    "    feature9.extend(sp.audio_features(tracks_url[i]))"
   ]
  },
  {
   "cell_type": "code",
   "execution_count": null,
   "metadata": {},
   "outputs": [],
   "source": [
    "feature10 = []\n",
    "for i in range(9000,10000):\n",
    "    feature10.extend(sp.audio_features(tracks_url[i]))"
   ]
  },
  {
   "cell_type": "code",
   "execution_count": null,
   "metadata": {},
   "outputs": [],
   "source": [
    "feature11 = []\n",
    "for i in range(10000,11000):\n",
    "    feature11.extend(sp.audio_features(tracks_url[i]))"
   ]
  },
  {
   "cell_type": "code",
   "execution_count": null,
   "metadata": {},
   "outputs": [],
   "source": [
    "feature12 = []\n",
    "for i in range(11000,12000):\n",
    "    feature12.extend(sp.audio_features(tracks_url[i]))"
   ]
  },
  {
   "cell_type": "code",
   "execution_count": null,
   "metadata": {},
   "outputs": [],
   "source": [
    "feature13 = []\n",
    "for i in range(12000,13000):\n",
    "    feature13.extend(sp.audio_features(tracks_url[i]))"
   ]
  },
  {
   "cell_type": "code",
   "execution_count": null,
   "metadata": {},
   "outputs": [],
   "source": [
    "feature14 = []\n",
    "for i in range(13000,14000):\n",
    "    feature14.extend(sp.audio_features(tracks_url[i]))"
   ]
  },
  {
   "cell_type": "code",
   "execution_count": null,
   "metadata": {},
   "outputs": [],
   "source": [
    "feature15 = []\n",
    "for i in range(14000,15000):\n",
    "    feature15.extend(sp.audio_features(tracks_url[i]))"
   ]
  },
  {
   "cell_type": "code",
   "execution_count": null,
   "metadata": {},
   "outputs": [],
   "source": [
    "feature16 = []\n",
    "for i in range(15000,16000):\n",
    "    feature16.extend(sp.audio_features(tracks_url[i]))"
   ]
  },
  {
   "cell_type": "code",
   "execution_count": null,
   "metadata": {},
   "outputs": [],
   "source": [
    "feature17 = []\n",
    "for i in range(16000,17000):\n",
    "    feature17.extend(sp.audio_features(tracks_url[i]))"
   ]
  },
  {
   "cell_type": "code",
   "execution_count": null,
   "metadata": {},
   "outputs": [],
   "source": [
    "feature18 = []\n",
    "for i in range(17000,18000):\n",
    "    feature18.extend(sp.audio_features(tracks_url[i]))"
   ]
  },
  {
   "cell_type": "code",
   "execution_count": null,
   "metadata": {},
   "outputs": [],
   "source": [
    "feature19 = []\n",
    "for i in range(18000,19000):\n",
    "    feature19.extend(sp.audio_features(tracks_url[i]))"
   ]
  },
  {
   "cell_type": "code",
   "execution_count": null,
   "metadata": {},
   "outputs": [],
   "source": [
    "feature20 = []\n",
    "for i in range(19000,20000):\n",
    "    feature20.extend(sp.audio_features(tracks_url[i]))"
   ]
  },
  {
   "cell_type": "code",
   "execution_count": null,
   "metadata": {},
   "outputs": [],
   "source": [
    "feature21 = []\n",
    "for i in range(20000,21000):\n",
    "    feature21.extend(sp.audio_features(tracks_url[i]))"
   ]
  },
  {
   "cell_type": "code",
   "execution_count": null,
   "metadata": {},
   "outputs": [],
   "source": [
    "feature22 = []\n",
    "for i in range(21000,21746):\n",
    "    feature22.extend(sp.audio_features(tracks_url[i]))"
   ]
  },
  {
   "cell_type": "code",
   "execution_count": null,
   "metadata": {},
   "outputs": [],
   "source": [
    "features = []\n",
    "features.extend(feature1)\n",
    "features.extend(feature2)\n",
    "features.extend(feature3)\n",
    "features.extend(feature4)\n",
    "features.extend(feature5)\n",
    "features.extend(feature6)\n",
    "features.extend(feature7)\n",
    "features.extend(feature8)\n",
    "features.extend(feature9)\n",
    "features.extend(feature10)\n",
    "features.extend(feature11)\n",
    "features.extend(feature12)\n",
    "features.extend(feature13)\n",
    "features.extend(feature14)\n",
    "features.extend(feature15)\n",
    "features.extend(feature16)\n",
    "features.extend(feature17)\n",
    "features.extend(feature18)\n",
    "features.extend(feature19)\n",
    "features.extend(feature20)\n",
    "features.extend(feature21)\n",
    "features.extend(feature22)"
   ]
  },
  {
   "cell_type": "code",
   "execution_count": null,
   "metadata": {},
   "outputs": [],
   "source": [
    "for i, teste in enumerate(features):\n",
    "    if teste == None:\n",
    "        features.remove(teste)"
   ]
  },
  {
   "cell_type": "code",
   "execution_count": null,
   "metadata": {},
   "outputs": [],
   "source": [
    "df = pd.DataFrame(features)\n",
    "df.to_csv('features.csv')"
   ]
  }
 ],
 "metadata": {
  "kernelspec": {
   "display_name": "Python 3",
   "language": "python",
   "name": "python3"
  },
  "language_info": {
   "codemirror_mode": {
    "name": "ipython",
    "version": 3
   },
   "file_extension": ".py",
   "mimetype": "text/x-python",
   "name": "python",
   "nbconvert_exporter": "python",
   "pygments_lexer": "ipython3",
   "version": "3.8.5"
  }
 },
 "nbformat": 4,
 "nbformat_minor": 4
}
